{
 "cells": [
  {
   "cell_type": "code",
   "execution_count": 57,
   "metadata": {},
   "outputs": [
    {
     "data": {
      "text/plain": [
       "<torch._C.Generator at 0x122f3b9f0>"
      ]
     },
     "execution_count": 57,
     "metadata": {},
     "output_type": "execute_result"
    }
   ],
   "source": [
    "# Imports\n",
    "import numpy as np\n",
    "import matplotlib.pyplot as plt\n",
    "\n",
    "import torch\n",
    "import torch.nn as nn\n",
    "import torch.nn.functional as F\n",
    "\n",
    "from torchvision import datasets\n",
    "from torchvision.transforms import ToTensor\n",
    "\n",
    "from torchinfo import summary\n",
    "from sklearn.model_selection import train_test_split\n",
    "\n",
    "from einops import rearrange\n",
    "from einops.layers.torch import Rearrange\n",
    "from tqdm import tqdm\n",
    "\n",
    "# Set seeds for reproducibility\n",
    "np.random.seed(42)\n",
    "torch.manual_seed(42)"
   ]
  },
  {
   "cell_type": "code",
   "execution_count": 58,
   "metadata": {},
   "outputs": [
    {
     "name": "stdout",
     "output_type": "stream",
     "text": [
      "Files already downloaded and verified\n",
      "Files already downloaded and verified\n"
     ]
    }
   ],
   "source": [
    "# Setup training data\n",
    "train_data = datasets.CIFAR10(\n",
    "    root=\"data\",\n",
    "    train=True,\n",
    "    download=True,\n",
    "    transform=ToTensor()\n",
    ")\n",
    "\n",
    "# Setup test data\n",
    "test_data = datasets.CIFAR10(\n",
    "    root=\"data\",\n",
    "    train=False,\n",
    "    download=True,\n",
    "    transform=ToTensor()\n",
    ")"
   ]
  },
  {
   "cell_type": "code",
   "execution_count": 59,
   "metadata": {},
   "outputs": [
    {
     "name": "stdout",
     "output_type": "stream",
     "text": [
      "torch.Size([3, 32, 32]) 6\n"
     ]
    },
    {
     "data": {
      "image/png": "[encoded data removed]",
      "text/plain": [
       "<Figure size 640x480 with 1 Axes>"
      ]
     },
     "metadata": {},
     "output_type": "display_data"
    }
   ],
   "source": [
    "image, label = train_data[0]\n",
    "print(image.shape, label)\n",
    "plt.imshow(image.squeeze().permute(1, 2, 0))\n",
    "plt.axis('off')\n",
    "plt.show()"
   ]
  },
  {
   "cell_type": "code",
   "execution_count": 60,
   "metadata": {},
   "outputs": [
    {
     "name": "stdout",
     "output_type": "stream",
     "text": [
      "Shape is: torch.Size([64, 4, 4, 3])\n"
     ]
    },
    {
     "data": {
      "image/png": "[encoded data removed]",
      "text/plain": [
       "<Figure size 640x480 with 64 Axes>"
      ]
     },
     "metadata": {},
     "output_type": "display_data"
    }
   ],
   "source": [
    "patch_size = 4\n",
    "image_patchify = rearrange(image, 'c (h p1) (w p2) -> (h w) p1 p2 c', p1=patch_size, p2=patch_size)\n",
    "print(f'Shape is: {image_patchify.shape}')\n",
    "\n",
    "h, w = int(image_patchify.shape[0]**0.5), int(image_patchify.shape[0]**0.5)\n",
    "fig, ax = plt.subplots(h, w)\n",
    "for i in range(h):\n",
    "    for j in range(w):\n",
    "        ax[i, j].imshow(image_patchify[i*h + j])\n",
    "        ax[i, j].axis('off')\n",
    "plt.show()"
   ]
  },
  {
   "cell_type": "code",
   "execution_count": 61,
   "metadata": {},
   "outputs": [],
   "source": [
    "# Networks\n",
    "\n",
    "class Embeddor(nn.Module):\n",
    "    \"\"\"Takes a batch (B, H, W, C) and returns a batch of flattened patches (B, N+1, D)\n",
    "    where N = (H // patch_size) * (W // patch_size) (+1 for the CLS token)\n",
    "    and D is the embedding dimension\n",
    "    A learnable positional embedding is added to each patch\n",
    "    \"\"\"\n",
    "\n",
    "    def __init__(\n",
    "        self,\n",
    "        height,\n",
    "        width,\n",
    "        patch_size,\n",
    "        dim,\n",
    "    ):\n",
    "\n",
    "        assert height % patch_size == 0, 'Height must be divisible by patch size'\n",
    "        assert width % patch_size == 0, 'Width must be divisible by patch size'\n",
    "\n",
    "        super().__init__()\n",
    "\n",
    "        self.height = height\n",
    "        self.width = width\n",
    "        self.patch_size = patch_size\n",
    "        self.num_patches = (height // patch_size) * (width // patch_size)\n",
    "\n",
    "        self.cls_token = nn.Parameter(torch.randn(1, 1, dim))\n",
    "        self.position_embedding_table = nn.Embedding(self.num_patches + 1, dim)\n",
    "\n",
    "        self.patch_embedding = nn.Sequential(\n",
    "            Rearrange('b (h p1) (w p2) c -> b (h w) (p1 p2 c)', p1=patch_size, p2=patch_size),\n",
    "            nn.Linear(patch_size * patch_size * 3, dim),\n",
    "        )\n",
    "\n",
    "    def forward(self, x):\n",
    "        batch_size = x.shape[0]\n",
    "\n",
    "        cls_tokens = self.cls_token.expand(batch_size, -1, -1)  # (B, 1, D)\n",
    "        position_embeddings = self.position_embedding_table(\n",
    "            torch.arange(self.num_patches + 1, device=x.device)\n",
    "        )  # (N+1, D)\n",
    "        x = self.patch_embedding(x)  # (B, H, W, C) -> (B, N, P^2*C) -> (B, N, D)\n",
    "        x = torch.concat([cls_tokens, x], dim=1)  # (B, N+1, D)\n",
    "        x += position_embeddings  # (B, N+1, D)\n",
    "\n",
    "        return x\n",
    "\n",
    "\n",
    "class Attention(nn.Module):\n",
    "    \"\"\"Attention module for a single layer of the ViT, with a skip connection\n",
    "    \"\"\"\n",
    "\n",
    "    def __init__(\n",
    "        self,\n",
    "        dim,\n",
    "        n_heads,\n",
    "    ):\n",
    "\n",
    "        super().__init__()\n",
    "        self.dim = dim\n",
    "        self.n_heads = n_heads\n",
    "\n",
    "        self.attention = nn.MultiheadAttention(dim, n_heads, batch_first=True)\n",
    "        self.ln = nn.LayerNorm(dim)\n",
    "\n",
    "    def forward(self, x):\n",
    "        \"\"\" x is a batch of patches (B, N+1, D) \n",
    "        \"\"\"\n",
    "        x_init = x\n",
    "        x = self.ln(x)\n",
    "        x, _ = self.attention(x, x, x, need_weights=False)  # (B, N+1, D)\n",
    "        x = x_init + x  # (B, N+1, D)\n",
    "        return x\n",
    "\n",
    "\n",
    "class FeedForward(nn.Module):\n",
    "    \"\"\"Feed forward module for a single layer of the ViT, with a skip connection\n",
    "    \"\"\"\n",
    "\n",
    "    def __init__(\n",
    "        self,\n",
    "        dim,\n",
    "        hidden_dim,\n",
    "        dropout=0.1,\n",
    "    ):\n",
    "\n",
    "        super().__init__()\n",
    "        self.dim = dim\n",
    "        self.hidden_dim = hidden_dim\n",
    "        self.dropout = dropout\n",
    "\n",
    "        self.ff1 = nn.Linear(dim, hidden_dim)\n",
    "        self.ff2 = nn.Linear(hidden_dim, dim)\n",
    "        self.ln = nn.LayerNorm(dim)\n",
    "        self.dropout = nn.Dropout(dropout)\n",
    "        self.activation = nn.GELU()\n",
    "\n",
    "    def forward(self, x):\n",
    "        \"\"\" x is a batch of patches (B, N+1, D) \n",
    "        \"\"\"\n",
    "\n",
    "        x_init = x\n",
    "        x = self.ln(x)\n",
    "        x = self.activation(self.ff1(x))  # (B, N+1, D)\n",
    "        x = self.dropout(x)\n",
    "        x = self.ff2(x)  # (B, N+1, D)\n",
    "        x = self.dropout(x)\n",
    "        x = x_init + x  # (B, N+1, D)\n",
    "\n",
    "        return x\n",
    "\n",
    "class ViT(nn.Module):\n",
    "\n",
    "    def __init__(\n",
    "        self,\n",
    "        height,\n",
    "        width,\n",
    "        patch_size,\n",
    "        dim,\n",
    "        n_heads,    \n",
    "        n_layers,\n",
    "        hidden_dim,\n",
    "        n_classes,\n",
    "        dropout=0.1,\n",
    "    ):\n",
    "\n",
    "        super().__init__()\n",
    "\n",
    "        self.height = height\n",
    "        self.width = width\n",
    "        self.patch_size = patch_size\n",
    "        self.dim = dim\n",
    "        self.n_heads = n_heads\n",
    "        self.n_layers = n_layers\n",
    "    \n",
    "        self.embeddor = Embeddor(height, width, patch_size, dim)\n",
    "        self.encoder = nn.ModuleList([\n",
    "            nn.Sequential(\n",
    "                Attention(dim, n_heads),\n",
    "                FeedForward(dim, hidden_dim, dropout),\n",
    "            ) for _ in range(n_layers)\n",
    "        ])\n",
    "        self.classifier_head = nn.Sequential(\n",
    "            nn.LayerNorm(dim),\n",
    "            nn.Linear(dim, n_classes)\n",
    "        )\n",
    "\n",
    "    def forward(self, x):\n",
    "        \"\"\" x is a tensor of dim (B, H, W, C)\n",
    "        \"\"\"\n",
    "        x = self.embeddor(x)  # (B, N+1, D)\n",
    "        for layer in self.encoder:\n",
    "            x = layer(x) # (B, N+1, D)\n",
    "        \n",
    "        return self.classifier_head(x[:, 0])"
   ]
  },
  {
   "cell_type": "code",
   "execution_count": 62,
   "metadata": {},
   "outputs": [],
   "source": [
    "@torch.inference_mode()\n",
    "def estimate_loss(model, data_loader, device):\n",
    "    \"\"\"Estimates the loss and accuracy of a model on a given dataset\n",
    "    \"\"\"\n",
    "    model.eval()\n",
    "    total_loss, accuracy = 0, 0\n",
    "    criterion = nn.CrossEntropyLoss()\n",
    "    for batch in tqdm(data_loader):\n",
    "        x, y = batch\n",
    "        x = x.to(device)\n",
    "        y = y.to(device)\n",
    "        # ensure x is of shape (B, H, W, C)\n",
    "        x = rearrange(x, 'b c h w -> b h w c')\n",
    "        y_hat = model(x)\n",
    "        total_loss += criterion(y_hat, y).item()\n",
    "        accuracy += (y_hat.argmax(1) == y).sum().item()\n",
    "    model.train()\n",
    "    return total_loss / len(data_loader), accuracy / len(data_loader.dataset)"
   ]
  },
  {
   "cell_type": "code",
   "execution_count": 63,
   "metadata": {},
   "outputs": [
    {
     "name": "stdout",
     "output_type": "stream",
     "text": [
      "===============================================================================================\n",
      "Layer (type:depth-idx)                        Output Shape              Param #\n",
      "===============================================================================================\n",
      "ViT                                           [32, 10]                  --\n",
      "├─Embeddor: 1-1                               [32, 65, 512]             512\n",
      "│    └─Embedding: 2-1                         [65, 512]                 33,280\n",
      "│    └─Sequential: 2-2                        [32, 64, 512]             --\n",
      "│    │    └─Rearrange: 3-1                    [32, 64, 48]              --\n",
      "│    │    └─Linear: 3-2                       [32, 64, 512]             25,088\n",
      "├─ModuleList: 1-2                             --                        --\n",
      "│    └─Sequential: 2-3                        [32, 65, 512]             --\n",
      "│    │    └─Attention: 3-3                    [32, 65, 512]             1,051,648\n",
      "│    │    └─FeedForward: 3-4                  [32, 65, 512]             526,336\n",
      "│    └─Sequential: 2-4                        [32, 65, 512]             --\n",
      "│    │    └─Attention: 3-5                    [32, 65, 512]             1,051,648\n",
      "│    │    └─FeedForward: 3-6                  [32, 65, 512]             526,336\n",
      "│    └─Sequential: 2-5                        [32, 65, 512]             --\n",
      "│    │    └─Attention: 3-7                    [32, 65, 512]             1,051,648\n",
      "│    │    └─FeedForward: 3-8                  [32, 65, 512]             526,336\n",
      "│    └─Sequential: 2-6                        [32, 65, 512]             --\n",
      "│    │    └─Attention: 3-9                    [32, 65, 512]             1,051,648\n",
      "│    │    └─FeedForward: 3-10                 [32, 65, 512]             526,336\n",
      "│    └─Sequential: 2-7                        [32, 65, 512]             --\n",
      "│    │    └─Attention: 3-11                   [32, 65, 512]             1,051,648\n",
      "│    │    └─FeedForward: 3-12                 [32, 65, 512]             526,336\n",
      "│    └─Sequential: 2-8                        [32, 65, 512]             --\n",
      "│    │    └─Attention: 3-13                   [32, 65, 512]             1,051,648\n",
      "│    │    └─FeedForward: 3-14                 [32, 65, 512]             526,336\n",
      "├─Sequential: 1-3                             [32, 10]                  --\n",
      "│    └─LayerNorm: 2-9                         [32, 512]                 1,024\n",
      "│    └─Linear: 2-10                           [32, 10]                  5,130\n",
      "===============================================================================================\n",
      "Total params: 9,532,938\n",
      "Trainable params: 9,532,938\n",
      "Non-trainable params: 0\n",
      "Total mult-adds (M): 104.42\n",
      "===============================================================================================\n",
      "Input size (MB): 0.39\n",
      "Forward/backward pass size (MB): 213.26\n",
      "Params size (MB): 12.91\n",
      "Estimated Total Size (MB): 226.57\n",
      "===============================================================================================\n"
     ]
    }
   ],
   "source": [
    "# Hyperparameters\n",
    "batch_size = 32\n",
    "patch_size = 4\n",
    "dim = 512\n",
    "n_heads = 8\n",
    "n_layers = 6\n",
    "hidden_dim = 512\n",
    "n_classes = 10\n",
    "dropout = 0.1\n",
    "lr = 1e-4\n",
    "epochs = 10\n",
    "device = 'cuda' if torch.cuda.is_available() else 'cpu'\n",
    "\n",
    "# Split training data into training and validation sets\n",
    "train_data_, val_data = train_test_split(train_data, test_size=0.2, random_state=42, stratify=train_data.targets)\n",
    "\n",
    "\n",
    "# Setup data loaders\n",
    "train_dataloader = torch.utils.data.DataLoader(train_data_, batch_size=batch_size, shuffle=True)\n",
    "val_dataloader = torch.utils.data.DataLoader(val_data, batch_size=batch_size)\n",
    "test_dataloader = torch.utils.data.DataLoader(test_data, batch_size=batch_size)\n",
    "\n",
    "# Setup model\n",
    "model = ViT(\n",
    "    height=32,\n",
    "    width=32,\n",
    "    patch_size=patch_size,\n",
    "    dim=dim,\n",
    "    n_heads=n_heads,\n",
    "    n_layers=n_layers,\n",
    "    hidden_dim=hidden_dim,\n",
    "    n_classes=n_classes,\n",
    "    dropout=dropout,\n",
    ").to(device)\n",
    "print(summary(model=model, input_size=(batch_size, 32, 32, 3)))\n",
    "\n",
    "# Setup optimizer\n",
    "optimizer = torch.optim.Adam(model.parameters(), lr=lr)\n",
    "\n",
    "# Setup loss function\n",
    "criterion = nn.CrossEntropyLoss()"
   ]
  },
  {
   "cell_type": "code",
   "execution_count": 64,
   "metadata": {},
   "outputs": [
    {
     "name": "stderr",
     "output_type": "stream",
     "text": [
      "Epoch 1/10: 100%|██████████| 1250/1250 [11:21<00:00,  1.83it/s]\n"
     ]
    },
    {
     "name": "stdout",
     "output_type": "stream",
     "text": [
      "Epoch 1 training loss: 1.8299622512817382\n"
     ]
    },
    {
     "name": "stderr",
     "output_type": "stream",
     "text": [
      "100%|██████████| 313/313 [00:39<00:00,  7.85it/s]\n"
     ]
    },
    {
     "name": "stdout",
     "output_type": "stream",
     "text": [
      "Validation loss: 1.6465221464443511, validation accuracy: 0.4162\n"
     ]
    },
    {
     "name": "stderr",
     "output_type": "stream",
     "text": [
      "Epoch 2/10: 100%|██████████| 1250/1250 [11:27<00:00,  1.82it/s]\n"
     ]
    },
    {
     "name": "stdout",
     "output_type": "stream",
     "text": [
      "Epoch 2 training loss: 1.5459349901199342\n"
     ]
    },
    {
     "name": "stderr",
     "output_type": "stream",
     "text": [
      "100%|██████████| 313/313 [00:42<00:00,  7.43it/s]\n"
     ]
    },
    {
     "name": "stdout",
     "output_type": "stream",
     "text": [
      "Validation loss: 1.4626414932001133, validation accuracy: 0.4795\n"
     ]
    },
    {
     "name": "stderr",
     "output_type": "stream",
     "text": [
      "Epoch 3/10: 100%|██████████| 1250/1250 [12:53<00:00,  1.62it/s]\n"
     ]
    },
    {
     "name": "stdout",
     "output_type": "stream",
     "text": [
      "Epoch 3 training loss: 1.3925910274982451\n"
     ]
    },
    {
     "name": "stderr",
     "output_type": "stream",
     "text": [
      "100%|██████████| 313/313 [00:46<00:00,  6.73it/s]\n"
     ]
    },
    {
     "name": "stdout",
     "output_type": "stream",
     "text": [
      "Validation loss: 1.402304248307079, validation accuracy: 0.4966\n"
     ]
    },
    {
     "name": "stderr",
     "output_type": "stream",
     "text": [
      "Epoch 4/10: 100%|██████████| 1250/1250 [12:46<00:00,  1.63it/s]\n"
     ]
    },
    {
     "name": "stdout",
     "output_type": "stream",
     "text": [
      "Epoch 4 training loss: 1.2822420883178711\n"
     ]
    },
    {
     "name": "stderr",
     "output_type": "stream",
     "text": [
      "100%|██████████| 313/313 [00:42<00:00,  7.45it/s]\n"
     ]
    },
    {
     "name": "stdout",
     "output_type": "stream",
     "text": [
      "Validation loss: 1.301111220932616, validation accuracy: 0.5325\n"
     ]
    },
    {
     "name": "stderr",
     "output_type": "stream",
     "text": [
      "Epoch 5/10: 100%|██████████| 1250/1250 [11:54<00:00,  1.75it/s]\n"
     ]
    },
    {
     "name": "stdout",
     "output_type": "stream",
     "text": [
      "Epoch 5 training loss: 1.1992360026359559\n"
     ]
    },
    {
     "name": "stderr",
     "output_type": "stream",
     "text": [
      "100%|██████████| 313/313 [00:43<00:00,  7.13it/s]\n"
     ]
    },
    {
     "name": "stdout",
     "output_type": "stream",
     "text": [
      "Validation loss: 1.286618078478609, validation accuracy: 0.5441\n"
     ]
    },
    {
     "name": "stderr",
     "output_type": "stream",
     "text": [
      "Epoch 6/10: 100%|██████████| 1250/1250 [12:32<00:00,  1.66it/s]\n"
     ]
    },
    {
     "name": "stdout",
     "output_type": "stream",
     "text": [
      "Epoch 6 training loss: 1.1191782612800598\n"
     ]
    },
    {
     "name": "stderr",
     "output_type": "stream",
     "text": [
      "100%|██████████| 313/313 [00:46<00:00,  6.79it/s]\n"
     ]
    },
    {
     "name": "stdout",
     "output_type": "stream",
     "text": [
      "Validation loss: 1.2443532216282318, validation accuracy: 0.5553\n"
     ]
    },
    {
     "name": "stderr",
     "output_type": "stream",
     "text": [
      "Epoch 7/10: 100%|██████████| 1250/1250 [20:44<00:00,  1.00it/s]\n"
     ]
    },
    {
     "name": "stdout",
     "output_type": "stream",
     "text": [
      "Epoch 7 training loss: 1.0439087262630462\n"
     ]
    },
    {
     "name": "stderr",
     "output_type": "stream",
     "text": [
      "100%|██████████| 313/313 [00:55<00:00,  5.61it/s]\n"
     ]
    },
    {
     "name": "stdout",
     "output_type": "stream",
     "text": [
      "Validation loss: 1.241986617303123, validation accuracy: 0.5623\n"
     ]
    },
    {
     "name": "stderr",
     "output_type": "stream",
     "text": [
      "Epoch 8/10: 100%|██████████| 1250/1250 [21:42<00:00,  1.04s/it] \n"
     ]
    },
    {
     "name": "stdout",
     "output_type": "stream",
     "text": [
      "Epoch 8 training loss: 0.9606047746896744\n"
     ]
    },
    {
     "name": "stderr",
     "output_type": "stream",
     "text": [
      "100%|██████████| 313/313 [01:07<00:00,  4.63it/s]\n"
     ]
    },
    {
     "name": "stdout",
     "output_type": "stream",
     "text": [
      "Validation loss: 1.217855708096355, validation accuracy: 0.5721\n"
     ]
    },
    {
     "name": "stderr",
     "output_type": "stream",
     "text": [
      "Epoch 9/10: 100%|██████████| 1250/1250 [13:18<00:00,  1.56it/s]\n"
     ]
    },
    {
     "name": "stdout",
     "output_type": "stream",
     "text": [
      "Epoch 9 training loss: 0.8712215067863465\n"
     ]
    },
    {
     "name": "stderr",
     "output_type": "stream",
     "text": [
      "100%|██████████| 313/313 [00:40<00:00,  7.67it/s]\n"
     ]
    },
    {
     "name": "stdout",
     "output_type": "stream",
     "text": [
      "Validation loss: 1.2609461039399947, validation accuracy: 0.5747\n"
     ]
    },
    {
     "name": "stderr",
     "output_type": "stream",
     "text": [
      "Epoch 10/10: 100%|██████████| 1250/1250 [09:56<00:00,  2.10it/s]\n"
     ]
    },
    {
     "name": "stdout",
     "output_type": "stream",
     "text": [
      "Epoch 10 training loss: 0.7844659359693528\n"
     ]
    },
    {
     "name": "stderr",
     "output_type": "stream",
     "text": [
      "100%|██████████| 313/313 [00:42<00:00,  7.30it/s]"
     ]
    },
    {
     "name": "stdout",
     "output_type": "stream",
     "text": [
      "Validation loss: 1.3268696446769155, validation accuracy: 0.5616\n"
     ]
    },
    {
     "name": "stderr",
     "output_type": "stream",
     "text": [
      "\n"
     ]
    }
   ],
   "source": [
    "training_losses, validation_losses, validation_accuracies = [], [], []\n",
    "\n",
    "# Training loop\n",
    "for epoch in range(epochs):\n",
    "    total_loss = 0\n",
    "    for batch_idx, batch in enumerate(pbar := tqdm(train_dataloader)):\n",
    "        x, y = batch\n",
    "        x = x.to(device)\n",
    "        y = y.to(device)\n",
    "        # ensure x is of shape (B, H, W, C)\n",
    "        x = rearrange(x, 'b c h w -> b h w c')\n",
    "        y_hat = model(x)\n",
    "        loss = criterion(y_hat, y)\n",
    "        total_loss += loss.item()\n",
    "        optimizer.zero_grad()\n",
    "        loss.backward()\n",
    "        optimizer.step()\n",
    "        pbar.set_description(f'Epoch {epoch+1}/{epochs}')\n",
    "        \n",
    "    print(f'Epoch {epoch+1} training loss: {total_loss / len(train_dataloader)}')\n",
    "    training_losses.append(total_loss / len(train_dataloader))\n",
    "\n",
    "    # Find validation loss and accuracy\n",
    "    val_loss, val_acc = estimate_loss(model, val_dataloader, device)\n",
    "    print(f'Validation loss: {val_loss}, validation accuracy: {val_acc}')\n",
    "    validation_losses.append(val_loss)\n",
    "    validation_accuracies.append(val_acc)\n",
    "    "
   ]
  },
  {
   "cell_type": "code",
   "execution_count": 67,
   "metadata": {},
   "outputs": [
    {
     "data": {
      "image/png": "[encoded data removed]",
      "text/plain": [
       "<Figure size 640x480 with 1 Axes>"
      ]
     },
     "metadata": {},
     "output_type": "display_data"
    }
   ],
   "source": [
    "# prompt: Plot loss curves\n",
    "\n",
    "plt.plot(range(len(training_losses)), training_losses, label='Training Loss')\n",
    "plt.plot(range(len(validation_losses)), validation_losses, label='Validation Loss')\n",
    "plt.xlabel('Epoch')\n",
    "plt.ylabel('Loss')\n",
    "plt.legend()\n",
    "plt.show()\n"
   ]
  },
  {
   "cell_type": "code",
   "execution_count": 66,
   "metadata": {},
   "outputs": [
    {
     "name": "stderr",
     "output_type": "stream",
     "text": [
      "100%|██████████| 313/313 [00:41<00:00,  7.62it/s]"
     ]
    },
    {
     "name": "stdout",
     "output_type": "stream",
     "text": [
      "Accuracy of the model on the test images: 57.17 %\n"
     ]
    },
    {
     "name": "stderr",
     "output_type": "stream",
     "text": [
      "\n"
     ]
    }
   ],
   "source": [
    "# prompt: Find accuracy on test_set\n",
    "\n",
    "model.eval()\n",
    "with torch.no_grad():\n",
    "    correct = 0\n",
    "    total = 0\n",
    "    for images, labels in tqdm(test_dataloader):\n",
    "        images = images.to(device)\n",
    "        images = rearrange(images, 'b c h w -> b h w c')\n",
    "        labels = labels.to(device)\n",
    "        outputs = model(images)\n",
    "        _, predicted = torch.max(outputs.data, 1)\n",
    "        total += labels.size(0)\n",
    "        correct += (predicted == labels).sum().item()\n",
    "    print('Accuracy of the model on the test images: {} %'.format(100 * correct / total))\n"
   ]
  }
 ],
 "metadata": {
  "kernelspec": {
   "display_name": "test",
   "language": "python",
   "name": "python3"
  },
  "language_info": {
   "codemirror_mode": {
    "name": "ipython",
    "version": 3
   },
   "file_extension": ".py",
   "mimetype": "text/x-python",
   "name": "python",
   "nbconvert_exporter": "python",
   "pygments_lexer": "ipython3",
   "version": "3.9.17"
  }
 },
 "nbformat": 4,
 "nbformat_minor": 2
}
